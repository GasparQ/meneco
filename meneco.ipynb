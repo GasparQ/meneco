{
 "cells": [
  {
   "cell_type": "markdown",
   "metadata": {},
   "source": [
    "# Meneco Preview"
   ]
  },
  {
   "cell_type": "markdown",
   "metadata": {},
   "source": [
    "This notebook is a preview demo of [meneco](https://pypi.python.org/pypi/meneco/) combined with the [IPython](http://ipython.org/) interactive environment. This demo assumes you have meneco 1.5.3 already installed.  "
   ]
  },
  {
   "cell_type": "markdown",
   "metadata": {},
   "source": [
    "First you need to import the necessary modules ..."
   ]
  },
  {
   "cell_type": "code",
   "execution_count": 1,
   "metadata": {
    "collapsed": true
   },
   "outputs": [],
   "source": [
    "from pyasp.term import *\n",
    "from urllib.request import urlopen\n",
    "from __meneco__ import query, utils, sbml"
   ]
  },
  {
   "cell_type": "markdown",
   "metadata": {},
   "source": [
    "Next, you can load a draft network from an sbml file and convert it into logic facts ..."
   ]
  },
  {
   "cell_type": "code",
   "execution_count": 2,
   "metadata": {
    "collapsed": false
   },
   "outputs": [],
   "source": [
    "draft_sbml= urlopen('https://raw.githubusercontent.com/bioasp/meneco/master/Ectodata/ectocyc.sbml')\n",
    "draftnet = sbml.readSBMLnetwork(draft_sbml, 'draft')    "
   ]
  },
  {
   "cell_type": "markdown",
   "metadata": {},
   "source": [
    "load the seeds ..."
   ]
  },
  {
   "cell_type": "code",
   "execution_count": 3,
   "metadata": {
    "collapsed": false
   },
   "outputs": [],
   "source": [
    "seeds_sbml = urlopen('https://raw.githubusercontent.com/bioasp/meneco/master/Ectodata/seeds.sbml')\n",
    "seeds = sbml.readSBMLseeds(seeds_sbml)"
   ]
  },
  {
   "cell_type": "markdown",
   "metadata": {},
   "source": [
    "and load the targets ..."
   ]
  },
  {
   "cell_type": "code",
   "execution_count": 4,
   "metadata": {
    "collapsed": false
   },
   "outputs": [],
   "source": [
    "targets_sbml = urlopen('https://raw.githubusercontent.com/bioasp/meneco/master/Ectodata/targets.sbml')\n",
    "targets = sbml.readSBMLtargets(targets_sbml)"
   ]
  },
  {
   "cell_type": "markdown",
   "metadata": {},
   "source": [
    "Then you can check the draft network for unproducible targets ..."
   ]
  },
  {
   "cell_type": "code",
   "execution_count": 5,
   "metadata": {
    "collapsed": false
   },
   "outputs": [
    {
     "name": "stdout",
     "output_type": "stream",
     "text": [
      "  \"CPD__45__8121\"\n",
      "  \"GLT\"\n",
      "  \"CIT\"\n",
      "  \"ILE\"\n",
      "  \"D__45__ALANINE\"\n",
      "  \"OLEATE__45__CPD\"\n",
      "  \"HOMO__45__SER\"\n",
      "  \"DOCOSANOATE\"\n",
      "  \"PHE\"\n",
      "  \"STEARIC_ACID\"\n",
      "  \"HIS\"\n",
      "  \"ARACHIDONIC_ACID\"\n",
      "  \"LINOLENIC_ACID\"\n",
      "  \"SER\"\n",
      "  \"PRO\"\n",
      "  \"_4__45__AMINO__45__BUTYRATE\"\n",
      "  \"TYR\"\n",
      "  \"GLN\"\n",
      "  \"CPD__45__9247\"\n",
      "  \"LEU\"\n",
      "  \"ASN\"\n",
      "  \"CPD__45__14292\"\n",
      "  \"MET\"\n",
      "  \"L__45__ORNITHINE\"\n",
      "  \"CPD__45__8119\"\n",
      "  \"SUC\"\n",
      "  \"TRP\"\n",
      "  \"VAL\"\n",
      "  \"LYS\"\n",
      "  \"CPD__45__7836\"\n",
      "  \"ARACHIDIC_ACID\"\n",
      "  \"_5Z8Z11Z14Z17Z__45__EICOSAPENTAENOATE\"\n",
      "  \"CPD__45__13814\"\n",
      "  \"GLYCERATE\"\n",
      "  \"GLY\"\n",
      "  \"GLUTATHIONE\"\n",
      "  \"PALMITATE\"\n",
      "  \"THREO__45__DS__45__ISO__45__CITRATE\"\n",
      "  \"GLC\"\n",
      "  \"CYS\"\n",
      "  \"CPD__45__9245\"\n",
      "  \"ARG\"\n",
      "  \"CPD__45__8120\"\n",
      "  \"THR\"\n",
      "  \"L__45__ASPARTATE\"\n",
      "  \"L__45__ALPHA__45__ALANINE\"\n",
      "  \"LINOLEIC_ACID\"\n",
      "  \"GLYCOLLATE\"\n",
      "  \"GLYCEROL\"\n",
      "  \"CPD__45__8117\"\n",
      "  \"MANNITOL\"\n"
     ]
    }
   ],
   "source": [
    "unproducible = TermSet()\n",
    "model = query.get_unproducible(draftnet, targets, seeds)\n",
    "for a in model:\n",
    "    target = str(a)[13:]\n",
    "    t      = String2TermSet(target)\n",
    "    unproducible = unproducible.union(t)\n",
    "unproducible = TermSet(unproducible)\n",
    "utils.print_met(unproducible.to_list())"
   ]
  },
  {
   "cell_type": "markdown",
   "metadata": {},
   "source": [
    "You can load another reaction network like metacyc repair data base..."
   ]
  },
  {
   "cell_type": "code",
   "execution_count": 6,
   "metadata": {
    "collapsed": false
   },
   "outputs": [
    {
     "name": "stdout",
     "output_type": "stream",
     "text": [
      "\n",
      " Warning: RXN__45__13206 listOfProducts=None\n"
     ]
    }
   ],
   "source": [
    "repair_sbml = urlopen('https://raw.githubusercontent.com/bioasp/meneco/master/Ectodata/metacyc_16-5.sbml')\n",
    "repairnet = sbml.readSBMLnetwork(repair_sbml, 'repairnet')"
   ]
  },
  {
   "cell_type": "markdown",
   "metadata": {},
   "source": [
    "and combine the draft network with the repair database ..."
   ]
  },
  {
   "cell_type": "code",
   "execution_count": 7,
   "metadata": {
    "collapsed": true
   },
   "outputs": [],
   "source": [
    "combinet = draftnet\n",
    "combinet = TermSet(combinet.union(repairnet))"
   ]
  },
  {
   "cell_type": "markdown",
   "metadata": {},
   "source": [
    "and then check for which targets producibilty cannot be restored even with the combined networks ..."
   ]
  },
  {
   "cell_type": "code",
   "execution_count": 8,
   "metadata": {
    "collapsed": false
   },
   "outputs": [
    {
     "name": "stdout",
     "output_type": "stream",
     "text": [
      "  \"CPD__45__8119\"\n",
      "  \"CPD__45__14292\"\n",
      "  \"CPD__45__13814\"\n",
      "  \"DOCOSANOATE\"\n"
     ]
    }
   ],
   "source": [
    "unrepairable = TermSet()\n",
    "model = query.get_unproducible(combinet, targets, seeds)\n",
    "for a in model:\n",
    "    target = str(a)[13:]\n",
    "    t      = String2TermSet(target)\n",
    "    unrepairable = unrepairable.union(t)\n",
    "unrepairable = TermSet(unrepairable)\n",
    "utils.print_met(unrepairable)"
   ]
  },
  {
   "cell_type": "markdown",
   "metadata": {},
   "source": [
    "and for which targets the production paths are repairable ..."
   ]
  },
  {
   "cell_type": "code",
   "execution_count": 9,
   "metadata": {
    "collapsed": false
   },
   "outputs": [
    {
     "name": "stdout",
     "output_type": "stream",
     "text": [
      "  \"CPD__45__8121\"\n",
      "  \"GLT\"\n",
      "  \"CIT\"\n",
      "  \"ILE\"\n",
      "  \"D__45__ALANINE\"\n",
      "  \"OLEATE__45__CPD\"\n",
      "  \"HOMO__45__SER\"\n",
      "  \"PHE\"\n",
      "  \"STEARIC_ACID\"\n",
      "  \"HIS\"\n",
      "  \"ARACHIDONIC_ACID\"\n",
      "  \"LINOLENIC_ACID\"\n",
      "  \"SER\"\n",
      "  \"PRO\"\n",
      "  \"_4__45__AMINO__45__BUTYRATE\"\n",
      "  \"TYR\"\n",
      "  \"GLN\"\n",
      "  \"CPD__45__9247\"\n",
      "  \"LEU\"\n",
      "  \"ASN\"\n",
      "  \"MET\"\n",
      "  \"L__45__ORNITHINE\"\n",
      "  \"SUC\"\n",
      "  \"TRP\"\n",
      "  \"VAL\"\n",
      "  \"LYS\"\n",
      "  \"CPD__45__7836\"\n",
      "  \"ARACHIDIC_ACID\"\n",
      "  \"_5Z8Z11Z14Z17Z__45__EICOSAPENTAENOATE\"\n",
      "  \"GLYCERATE\"\n",
      "  \"GLY\"\n",
      "  \"GLUTATHIONE\"\n",
      "  \"PALMITATE\"\n",
      "  \"THREO__45__DS__45__ISO__45__CITRATE\"\n",
      "  \"GLC\"\n",
      "  \"CYS\"\n",
      "  \"CPD__45__9245\"\n",
      "  \"ARG\"\n",
      "  \"CPD__45__8120\"\n",
      "  \"THR\"\n",
      "  \"L__45__ASPARTATE\"\n",
      "  \"L__45__ALPHA__45__ALANINE\"\n",
      "  \"LINOLEIC_ACID\"\n",
      "  \"GLYCOLLATE\"\n",
      "  \"GLYCEROL\"\n",
      "  \"CPD__45__8117\"\n",
      "  \"MANNITOL\"\n"
     ]
    }
   ],
   "source": [
    "repairable = unproducible.difference(unrepairable)\n",
    "utils.print_met(repairable)"
   ]
  },
  {
   "cell_type": "markdown",
   "metadata": {},
   "source": [
    "You can compute the essential reactions for the repairable target ..."
   ]
  },
  {
   "cell_type": "code",
   "execution_count": 10,
   "metadata": {
    "collapsed": false
   },
   "outputs": [
    {
     "name": "stdout",
     "output_type": "stream",
     "text": [
      "\n",
      "Computing essential reactions for target(\"CPD__45__8121\") ... done.\n",
      "  0 essential reactions found:\n",
      "\n",
      "Computing essential reactions for target(\"GLT\") ... done.\n",
      "  0 essential reactions found:\n",
      "\n",
      "Computing essential reactions for target(\"CIT\") ... done.\n",
      "  0 essential reactions found:\n",
      "\n",
      "Computing essential reactions for target(\"ILE\") ... done.\n",
      "  0 essential reactions found:\n",
      "\n",
      "Computing essential reactions for target(\"D__45__ALANINE\") ... done.\n",
      "  0 essential reactions found:\n",
      "\n",
      "Computing essential reactions for target(\"OLEATE__45__CPD\") ... done.\n",
      "  5 essential reactions found:\n",
      "  \"RXN__45__9520\"\n",
      "  \"_4__46__2__46__1__46__59__45__RXN\"\n",
      "  \"_1__46__14__46__19__46__2__45__RXN\"\n",
      "  \"RXN__45__9655\"\n",
      "  \"_3__46__1__46__2__46__14__45__RXN\"\n",
      "\n",
      "Computing essential reactions for target(\"HOMO__45__SER\") ... done.\n",
      "  0 essential reactions found:\n",
      "\n",
      "Computing essential reactions for target(\"PHE\") ... done.\n",
      "  0 essential reactions found:\n",
      "\n",
      "Computing essential reactions for target(\"STEARIC_ACID\") ... done.\n",
      "  3 essential reactions found:\n",
      "  \"RXN__45__9520\"\n",
      "  \"_4__46__2__46__1__46__59__45__RXN\"\n",
      "  \"RXN__45__9655\"\n",
      "\n",
      "Computing essential reactions for target(\"HIS\") ... done.\n",
      "  2 essential reactions found:\n",
      "  \"HISTIDPHOS__45__RXN\"\n",
      "  \"HISTCYCLOHYD__45__RXN\"\n",
      "\n",
      "Computing essential reactions for target(\"ARACHIDONIC_ACID\") ... done.\n",
      "  11 essential reactions found:\n",
      "  \"RXN__45__13435\"\n",
      "  \"RXN__45__12777\"\n",
      "  \"RXN__45__9520\"\n",
      "  \"_4__46__2__46__1__46__59__45__RXN\"\n",
      "  \"RXN__45__12969\"\n",
      "  \"RXN__45__12971\"\n",
      "  \"RXN__45__8346\"\n",
      "  \"RXN__45__12968\"\n",
      "  \"_3__46__1__46__2__46__14__45__RXN\"\n",
      "  \"_1__46__14__46__19__46__2__45__RXN\"\n",
      "  \"RXN__45__9655\"\n",
      "\n",
      "Computing essential reactions for target(\"LINOLENIC_ACID\") ... done.\n",
      "  0 essential reactions found:\n",
      "\n",
      "Computing essential reactions for target(\"SER\") ... done.\n",
      "  0 essential reactions found:\n",
      "\n",
      "Computing essential reactions for target(\"PRO\") ... done.\n",
      "  0 essential reactions found:\n",
      "\n",
      "Computing essential reactions for target(\"_4__45__AMINO__45__BUTYRATE\") ... done.\n",
      "  0 essential reactions found:\n",
      "\n",
      "Computing essential reactions for target(\"TYR\") ... done.\n",
      "  0 essential reactions found:\n",
      "\n",
      "Computing essential reactions for target(\"GLN\") ... done.\n",
      "  0 essential reactions found:\n",
      "\n",
      "Computing essential reactions for target(\"CPD__45__9247\") ... done.\n",
      "  6 essential reactions found:\n",
      "  \"RXN__45__9555\"\n",
      "  \"RXN__45__9520\"\n",
      "  \"RXN__45__9557\"\n",
      "  \"_4__46__2__46__1__46__59__45__RXN\"\n",
      "  \"RXN__45__9655\"\n",
      "  \"RXN__45__9558\"\n",
      "\n",
      "Computing essential reactions for target(\"LEU\") ... done.\n",
      "  0 essential reactions found:\n",
      "\n",
      "Computing essential reactions for target(\"ASN\") ... done.\n",
      "  0 essential reactions found:\n",
      "\n",
      "Computing essential reactions for target(\"MET\") ... done.\n",
      "  0 essential reactions found:\n",
      "\n",
      "Computing essential reactions for target(\"L__45__ORNITHINE\") ... done.\n",
      "  0 essential reactions found:\n",
      "\n",
      "Computing essential reactions for target(\"SUC\") ... done.\n",
      "  0 essential reactions found:\n",
      "\n",
      "Computing essential reactions for target(\"TRP\") ... done.\n",
      "  0 essential reactions found:\n",
      "\n",
      "Computing essential reactions for target(\"VAL\") ... done.\n",
      "  0 essential reactions found:\n",
      "\n",
      "Computing essential reactions for target(\"LYS\") ... done.\n",
      "  0 essential reactions found:\n",
      "\n",
      "Computing essential reactions for target(\"CPD__45__7836\") ... done.\n",
      "  6 essential reactions found:\n",
      "  \"RXN__45__9537\"\n",
      "  \"RXN__45__10727\"\n",
      "  \"RXN__45__9520\"\n",
      "  \"_4__46__2__46__1__46__59__45__RXN\"\n",
      "  \"RXN__45__9533\"\n",
      "  \"RXN__45__9655\"\n",
      "\n",
      "Computing essential reactions for target(\"ARACHIDIC_ACID\") ... done.\n",
      "  3 essential reactions found:\n",
      "  \"RXN__45__9520\"\n",
      "  \"_4__46__2__46__1__46__59__45__RXN\"\n",
      "  \"RXN__45__9655\"\n",
      "\n",
      "Computing essential reactions for target(\"_5Z8Z11Z14Z17Z__45__EICOSAPENTAENOATE\") ... done.\n",
      "  0 essential reactions found:\n",
      "\n",
      "Computing essential reactions for target(\"GLYCERATE\") ... done.\n",
      "  0 essential reactions found:\n",
      "\n",
      "Computing essential reactions for target(\"GLY\") ... done.\n",
      "  0 essential reactions found:\n",
      "\n",
      "Computing essential reactions for target(\"GLUTATHIONE\") ... done.\n",
      "  0 essential reactions found:\n",
      "\n",
      "Computing essential reactions for target(\"PALMITATE\") ... done.\n",
      "  4 essential reactions found:\n",
      "  \"RXN__45__9520\"\n",
      "  \"_4__46__2__46__1__46__59__45__RXN\"\n",
      "  \"RXN__45__9549\"\n",
      "  \"RXN__45__9655\"\n",
      "\n",
      "Computing essential reactions for target(\"THREO__45__DS__45__ISO__45__CITRATE\") ... done.\n",
      "  0 essential reactions found:\n",
      "\n",
      "Computing essential reactions for target(\"GLC\") ... done.\n",
      "  0 essential reactions found:\n",
      "\n",
      "Computing essential reactions for target(\"CYS\") ... done.\n",
      "  0 essential reactions found:\n",
      "\n",
      "Computing essential reactions for target(\"CPD__45__9245\") ... done.\n",
      "  4 essential reactions found:\n",
      "  \"RXN__45__9520\"\n",
      "  \"_4__46__2__46__1__46__59__45__RXN\"\n",
      "  \"RXN__45__9550\"\n",
      "  \"RXN__45__9655\"\n",
      "\n",
      "Computing essential reactions for target(\"ARG\") ... done.\n",
      "  0 essential reactions found:\n",
      "\n",
      "Computing essential reactions for target(\"CPD__45__8120\") ... done.\n",
      "  10 essential reactions found:\n",
      "  \"RXN__45__13435\"\n",
      "  \"RXN__45__12777\"\n",
      "  \"RXN__45__9520\"\n",
      "  \"_4__46__2__46__1__46__59__45__RXN\"\n",
      "  \"RXN__45__12969\"\n",
      "  \"RXN__45__12971\"\n",
      "  \"RXN__45__12968\"\n",
      "  \"_3__46__1__46__2__46__14__45__RXN\"\n",
      "  \"_1__46__14__46__19__46__2__45__RXN\"\n",
      "  \"RXN__45__9655\"\n",
      "\n",
      "Computing essential reactions for target(\"THR\") ... done.\n",
      "  0 essential reactions found:\n",
      "\n",
      "Computing essential reactions for target(\"L__45__ASPARTATE\") ... done.\n",
      "  0 essential reactions found:\n",
      "\n",
      "Computing essential reactions for target(\"L__45__ALPHA__45__ALANINE\") ... done.\n",
      "  0 essential reactions found:\n",
      "\n",
      "Computing essential reactions for target(\"LINOLEIC_ACID\") ... done.\n",
      "  5 essential reactions found:\n",
      "  \"RXN__45__9520\"\n",
      "  \"_4__46__2__46__1__46__59__45__RXN\"\n",
      "  \"_1__46__14__46__19__46__2__45__RXN\"\n",
      "  \"RXN__45__9655\"\n",
      "  \"_3__46__1__46__2__46__14__45__RXN\"\n",
      "\n",
      "Computing essential reactions for target(\"GLYCOLLATE\") ... done.\n",
      "  0 essential reactions found:\n",
      "\n",
      "Computing essential reactions for target(\"GLYCEROL\") ... done.\n",
      "  0 essential reactions found:\n",
      "\n",
      "Computing essential reactions for target(\"CPD__45__8117\") ... done.\n",
      "  5 essential reactions found:\n",
      "  \"RXN__45__9520\"\n",
      "  \"_4__46__2__46__1__46__59__45__RXN\"\n",
      "  \"_1__46__14__46__19__46__2__45__RXN\"\n",
      "  \"RXN__45__9655\"\n",
      "  \"_3__46__1__46__2__46__14__45__RXN\"\n",
      "\n",
      "Computing essential reactions for target(\"MANNITOL\") ... done.\n",
      "  0 essential reactions found:\n",
      "\n",
      "Overall 21 essential reactions found.\n",
      "  \"RXN__45__13435\"\n",
      "  \"RXN__45__9537\"\n",
      "  \"RXN__45__9520\"\n",
      "  \"RXN__45__9557\"\n",
      "  \"_4__46__2__46__1__46__59__45__RXN\"\n",
      "  \"RXN__45__9533\"\n",
      "  \"RXN__45__12971\"\n",
      "  \"RXN__45__12968\"\n",
      "  \"_3__46__1__46__2__46__14__45__RXN\"\n",
      "  \"_1__46__14__46__19__46__2__45__RXN\"\n",
      "  \"RXN__45__9558\"\n",
      "  \"HISTIDPHOS__45__RXN\"\n",
      "  \"RXN__45__9550\"\n",
      "  \"RXN__45__10727\"\n",
      "  \"RXN__45__12777\"\n",
      "  \"RXN__45__9555\"\n",
      "  \"RXN__45__9549\"\n",
      "  \"HISTCYCLOHYD__45__RXN\"\n",
      "  \"RXN__45__12969\"\n",
      "  \"RXN__45__8346\"\n",
      "  \"RXN__45__9655\"\n"
     ]
    }
   ],
   "source": [
    "essential_reactions = TermSet()\n",
    "for t in repairable:\n",
    "      single_target = TermSet()\n",
    "      single_target.add(t)\n",
    "      print('\\nComputing essential reactions for', t,'...', end=' ')\n",
    "      essentials = query.get_intersection_of_completions(draftnet, repairnet, seeds, single_target)\n",
    "      print('done.')\n",
    "      print(' ',len(essentials), 'essential reactions found:')\n",
    "      utils.print_met(essentials.to_list())\n",
    "      essential_reactions = essential_reactions.union(essentials)\n",
    "essential_reactions= TermSet(essential_reactions)\n",
    "print('\\nOverall',len(essential_reactions), 'essential reactions found.')\n",
    "utils.print_met(essential_reactions)"
   ]
  },
  {
   "cell_type": "markdown",
   "metadata": {},
   "source": [
    "You can compute a completion of minimal size suitable to produce all repairable targets ..."
   ]
  },
  {
   "cell_type": "code",
   "execution_count": 11,
   "metadata": {
    "collapsed": false
   },
   "outputs": [
    {
     "name": "stdout",
     "output_type": "stream",
     "text": [
      "  minimal size = 45\n",
      "  \"RXN__45__13435\"\n",
      "  \"RXN__45__9537\"\n",
      "  \"RXN__45__12766\"\n",
      "  \"RXN__45__9557\"\n",
      "  \"RXN__45__9520\"\n",
      "  \"PHOSPHOGLYCERATE__45__PHOSPHATASE__45__RXN\"\n",
      "  \"GLUTDECARBOX__45__RXN\"\n",
      "  \"RXN__45__12968\"\n",
      "  \"_3__46__1__46__2__46__14__45__RXN\"\n",
      "  \"_1__46__14__46__19__46__2__45__RXN\"\n",
      "  \"HISTIDPHOS__45__RXN\"\n",
      "  \"FORMYLMETHIONINE__45__DEFORMYLASE__45__RXN\"\n",
      "  \"RXN__45__9550\"\n",
      "  \"RXN__45__10727\"\n",
      "  \"_3__46__4__46__19__46__7__45__RXN\"\n",
      "  \"RXN__45__12777\"\n",
      "  \"_3__46__4__46__14__46__1__45__RXN\"\n",
      "  \"RXN__45__9549\"\n",
      "  \"RXN__45__8347\"\n",
      "  \"PREPHENATEDEHYDROG__45__RXN\"\n",
      "  \"HISTCYCLOHYD__45__RXN\"\n",
      "  \"RXN__45__12755\"\n",
      "  \"RXN__45__8349\"\n",
      "  \"RXN__45__9655\"\n",
      "  \"MANNITOL__45__1__45__PHOSPHATASE__45__RXN\"\n",
      "  \"_4__46__2__46__1__46__61__45__RXN\"\n",
      "  \"RXN__45__9533\"\n",
      "  \"_4__46__2__46__1__46__59__45__RXN\"\n",
      "  \"_3__46__4__46__13__46__5__45__RXN\"\n",
      "  \"SHIKIMATE__45__5__45__DEHYDROGENASE__45__RXN\"\n",
      "  \"RXN__45__12971\"\n",
      "  \"RXN__45__13242\"\n",
      "  \"RXN__45__13261\"\n",
      "  \"RXN__45__10663\"\n",
      "  \"RXN__45__9558\"\n",
      "  \"MALONYL__45__ACPDECARBOX__45__RXN\"\n",
      "  \"_4__46__2__46__1__46__58__45__RXN\"\n",
      "  \"RXN__45__9634\"\n",
      "  \"RXN__45__9548\"\n",
      "  \"RXN__45__9555\"\n",
      "  \"TYRAMINOTRANS__45__RXN\"\n",
      "  \"RXN__45__12969\"\n",
      "  \"RXN__45__9673\"\n",
      "  \"RXN__45__8346\"\n",
      "  \"FATTY__45__ACYL__45__COA__45__SYNTHASE__45__RXN\"\n"
     ]
    }
   ],
   "source": [
    "models =  query.get_minimal_completion_size(draftnet, repairnet, seeds, repairable)\n",
    "optimum = models[0].score[0]\n",
    "print('  minimal size =',optimum)\n",
    "utils.print_met(models[0].to_list())"
   ]
  },
  {
   "cell_type": "markdown",
   "metadata": {},
   "source": [
    "We can compute the common reactions in all completion with a given size ..."
   ]
  },
  {
   "cell_type": "code",
   "execution_count": 12,
   "metadata": {
    "collapsed": false
   },
   "outputs": [
    {
     "name": "stdout",
     "output_type": "stream",
     "text": [
      "  \"RXN__45__13435\"\n",
      "  \"RXN__45__9537\"\n",
      "  \"RXN__45__12766\"\n",
      "  \"RXN__45__9557\"\n",
      "  \"RXN__45__9520\"\n",
      "  \"GLUTDECARBOX__45__RXN\"\n",
      "  \"RXN__45__12968\"\n",
      "  \"_3__46__1__46__2__46__14__45__RXN\"\n",
      "  \"_1__46__14__46__19__46__2__45__RXN\"\n",
      "  \"HISTIDPHOS__45__RXN\"\n",
      "  \"RXN__45__9550\"\n",
      "  \"RXN__45__10727\"\n",
      "  \"RXN__45__12777\"\n",
      "  \"RXN__45__9549\"\n",
      "  \"HISTCYCLOHYD__45__RXN\"\n",
      "  \"MANNITOL__45__1__45__PHOSPHATASE__45__RXN\"\n",
      "  \"_4__46__2__46__1__46__61__45__RXN\"\n",
      "  \"RXN__45__9533\"\n",
      "  \"_4__46__2__46__1__46__59__45__RXN\"\n",
      "  \"RXN__45__12971\"\n",
      "  \"RXN__45__13242\"\n",
      "  \"RXN__45__13261\"\n",
      "  \"RXN__45__9558\"\n",
      "  \"_4__46__2__46__1__46__58__45__RXN\"\n",
      "  \"RXN__45__9634\"\n",
      "  \"RXN__45__9548\"\n",
      "  \"RXN__45__9555\"\n",
      "  \"RXN__45__12969\"\n",
      "  \"RXN__45__9673\"\n",
      "  \"RXN__45__8346\"\n",
      "  \"RXN__45__9655\"\n"
     ]
    }
   ],
   "source": [
    "model = query.get_intersection_of_optimal_completions(draftnet, repairnet, seeds, repairable,  optimum)\n",
    "utils.print_met(model.to_list())    "
   ]
  },
  {
   "cell_type": "markdown",
   "metadata": {},
   "source": [
    "We can compute the union all completion with a given size ..."
   ]
  },
  {
   "cell_type": "code",
   "execution_count": 13,
   "metadata": {
    "collapsed": false
   },
   "outputs": [
    {
     "name": "stdout",
     "output_type": "stream",
     "text": [
      "  \"_4__45__COUMARATE__45____45__COA__45__LIGASE__45__RXN\"\n",
      "  \"RXN__45__13435\"\n",
      "  \"RXN__45__9537\"\n",
      "  \"RXN__45__12487\"\n",
      "  \"RXN__45__12361\"\n",
      "  \"RXN__45__12766\"\n",
      "  \"RXN__45__9557\"\n",
      "  \"RXN__45__9520\"\n",
      "  \"_3__46__4__46__13__46__17__45__RXN\"\n",
      "  \"PHOSPHOGLYCERATE__45__PHOSPHATASE__45__RXN\"\n",
      "  \"RXN__45__13431\"\n",
      "  \"FATTY__45__ACID__45__SYNTHASE__45__RXN\"\n",
      "  \"TYROSINE__45__AMINOTRANSFERASE__45__RXN\"\n",
      "  \"ADENYLYLSULFATE__45__REDUCTASE__45__RXN\"\n",
      "  \"GLUTDECARBOX__45__RXN\"\n",
      "  \"RXN__45__12968\"\n",
      "  \"_3__46__1__46__2__46__14__45__RXN\"\n",
      "  \"_1__46__14__46__19__46__2__45__RXN\"\n",
      "  \"HISTIDPHOS__45__RXN\"\n",
      "  \"FORMYLMETHIONINE__45__DEFORMYLASE__45__RXN\"\n",
      "  \"ADENOSYLHOMOCYSTEINASE__45__RXN\"\n",
      "  \"RXN__45__9550\"\n",
      "  \"RXN__45__10727\"\n",
      "  \"_3__46__4__46__19__46__7__45__RXN\"\n",
      "  \"RXN__45__12777\"\n",
      "  \"ACP__45__S__45__ACETYLTRANSFER__45__RXN\"\n",
      "  \"_3__46__4__46__14__46__1__45__RXN\"\n",
      "  \"RXN__45__8347\"\n",
      "  \"RXN__45__9549\"\n",
      "  \"HISTCYCLOHYD__45__RXN\"\n",
      "  \"PREPHENATEDEHYDROG__45__RXN\"\n",
      "  \"RXN__45__12755\"\n",
      "  \"RXN__45__12794\"\n",
      "  \"_3__45__PHOSPHOGLYCERATE__45__PHOSPHATASE__45__RXN\"\n",
      "  \"_3__46__4__46__13__46__19__45__RXN\"\n",
      "  \"RXN__45__7968\"\n",
      "  \"RXN__45__8349\"\n",
      "  \"RXN__45__701\"\n",
      "  \"PREPHENATE__45__DEHYDROGENASE__45__NADP__43____45__RXN\"\n",
      "  \"RXN__45__8389\"\n",
      "  \"TRANS__45__CINNAMATE__45__4__45__MONOOXYGENASE__45__RXN\"\n",
      "  \"RXN__45__9655\"\n",
      "  \"MANNITOL__45__1__45__PHOSPHATASE__45__RXN\"\n",
      "  \"_4__46__2__46__1__46__61__45__RXN\"\n",
      "  \"PHENYLALANINE__45__AMMONIA__45__LYASE__45__RXN\"\n",
      "  \"_4__46__3__46__1__46__23__45__RXN\"\n",
      "  \"_2__46__3__46__1__46__180__45__RXN\"\n",
      "  \"RXN__45__9533\"\n",
      "  \"_4__46__2__46__1__46__59__45__RXN\"\n",
      "  \"RXN__45__8350\"\n",
      "  \"CYCLOHEXADIENYL__45__DEHYDROGENASE__45__RXN\"\n",
      "  \"RXN__45__12793\"\n",
      "  \"SHIKIMATE__45__5__45__DEHYDROGENASE__45__RXN\"\n",
      "  \"RXN__45__12971\"\n",
      "  \"_3__46__4__46__13__46__5__45__RXN\"\n",
      "  \"RXN__45__5682\"\n",
      "  \"RXN__45__13242\"\n",
      "  \"RXN__45__13261\"\n",
      "  \"_3__46__4__46__13__46__4__45__RXN\"\n",
      "  \"PREPHENATE__45__TRANSAMINE__45__RXN\"\n",
      "  \"RXN__45__10663\"\n",
      "  \"RXN__45__9558\"\n",
      "  \"MALONYL__45__ACPDECARBOX__45__RXN\"\n",
      "  \"_4__46__2__46__1__46__58__45__RXN\"\n",
      "  \"RXN__45__9634\"\n",
      "  \"RXN__45__9548\"\n",
      "  \"RXN__45__9555\"\n",
      "  \"PREPHENATE__45__ASP__45__TRANSAMINE__45__RXN\"\n",
      "  \"TYRAMINOTRANS__45__RXN\"\n",
      "  \"RXN__45__12969\"\n",
      "  \"RXN__45__9673\"\n",
      "  \"RXN__45__8346\"\n",
      "  \"RXN__45__11243\"\n",
      "  \"_4__46__3__46__1__46__25__45__RXN\"\n",
      "  \"FATTY__45__ACYL__45__COA__45__SYNTHASE__45__RXN\"\n",
      "  \"RXN__45__9697\"\n"
     ]
    }
   ],
   "source": [
    "model = query.get_union_of_optimal_completions(draftnet, repairnet, seeds, repairable, optimum)\n",
    "utils.print_met(model.to_list())"
   ]
  },
  {
   "cell_type": "markdown",
   "metadata": {},
   "source": [
    "And finally compute all (for this notebook we print only the first three) completions with a given size ..."
   ]
  },
  {
   "cell_type": "code",
   "execution_count": 14,
   "metadata": {
    "collapsed": false
   },
   "outputs": [
    {
     "name": "stdout",
     "output_type": "stream",
     "text": [
      "Completion 1:\n",
      "  \"_4__45__COUMARATE__45____45__COA__45__LIGASE__45__RXN\"\n",
      "  \"RXN__45__13435\"\n",
      "  \"RXN__45__9537\"\n",
      "  \"RXN__45__12361\"\n",
      "  \"RXN__45__12766\"\n",
      "  \"RXN__45__9557\"\n",
      "  \"RXN__45__9520\"\n",
      "  \"TYROSINE__45__AMINOTRANSFERASE__45__RXN\"\n",
      "  \"GLUTDECARBOX__45__RXN\"\n",
      "  \"RXN__45__12968\"\n",
      "  \"_3__46__1__46__2__46__14__45__RXN\"\n",
      "  \"_1__46__14__46__19__46__2__45__RXN\"\n",
      "  \"HISTIDPHOS__45__RXN\"\n",
      "  \"ADENOSYLHOMOCYSTEINASE__45__RXN\"\n",
      "  \"RXN__45__9550\"\n",
      "  \"RXN__45__10727\"\n",
      "  \"RXN__45__12777\"\n",
      "  \"RXN__45__9549\"\n",
      "  \"_3__45__PHOSPHOGLYCERATE__45__PHOSPHATASE__45__RXN\"\n",
      "  \"RXN__45__8347\"\n",
      "  \"PREPHENATEDEHYDROG__45__RXN\"\n",
      "  \"HISTCYCLOHYD__45__RXN\"\n",
      "  \"RXN__45__12755\"\n",
      "  \"RXN__45__7968\"\n",
      "  \"RXN__45__8349\"\n",
      "  \"RXN__45__701\"\n",
      "  \"MANNITOL__45__1__45__PHOSPHATASE__45__RXN\"\n",
      "  \"_4__46__2__46__1__46__61__45__RXN\"\n",
      "  \"_4__46__3__46__1__46__23__45__RXN\"\n",
      "  \"RXN__45__9533\"\n",
      "  \"_4__46__2__46__1__46__59__45__RXN\"\n",
      "  \"RXN__45__12971\"\n",
      "  \"RXN__45__13242\"\n",
      "  \"RXN__45__13261\"\n",
      "  \"RXN__45__10663\"\n",
      "  \"RXN__45__9558\"\n",
      "  \"_4__46__2__46__1__46__58__45__RXN\"\n",
      "  \"RXN__45__9634\"\n",
      "  \"RXN__45__9548\"\n",
      "  \"RXN__45__9555\"\n",
      "  \"RXN__45__12969\"\n",
      "  \"RXN__45__9673\"\n",
      "  \"RXN__45__8346\"\n",
      "  \"RXN__45__11243\"\n",
      "  \"RXN__45__9655\"\n",
      "Completion 2:\n",
      "  \"_4__45__COUMARATE__45____45__COA__45__LIGASE__45__RXN\"\n",
      "  \"RXN__45__13435\"\n",
      "  \"RXN__45__9537\"\n",
      "  \"RXN__45__12361\"\n",
      "  \"RXN__45__12766\"\n",
      "  \"RXN__45__9557\"\n",
      "  \"RXN__45__9520\"\n",
      "  \"TYROSINE__45__AMINOTRANSFERASE__45__RXN\"\n",
      "  \"GLUTDECARBOX__45__RXN\"\n",
      "  \"RXN__45__12968\"\n",
      "  \"_3__46__1__46__2__46__14__45__RXN\"\n",
      "  \"_1__46__14__46__19__46__2__45__RXN\"\n",
      "  \"HISTIDPHOS__45__RXN\"\n",
      "  \"ADENOSYLHOMOCYSTEINASE__45__RXN\"\n",
      "  \"RXN__45__9550\"\n",
      "  \"RXN__45__10727\"\n",
      "  \"RXN__45__12777\"\n",
      "  \"RXN__45__9549\"\n",
      "  \"_3__45__PHOSPHOGLYCERATE__45__PHOSPHATASE__45__RXN\"\n",
      "  \"PREPHENATEDEHYDROG__45__RXN\"\n",
      "  \"HISTCYCLOHYD__45__RXN\"\n",
      "  \"RXN__45__12755\"\n",
      "  \"RXN__45__12794\"\n",
      "  \"RXN__45__7968\"\n",
      "  \"RXN__45__701\"\n",
      "  \"MANNITOL__45__1__45__PHOSPHATASE__45__RXN\"\n",
      "  \"_4__46__2__46__1__46__61__45__RXN\"\n",
      "  \"_4__46__3__46__1__46__23__45__RXN\"\n",
      "  \"RXN__45__9533\"\n",
      "  \"_4__46__2__46__1__46__59__45__RXN\"\n",
      "  \"RXN__45__12793\"\n",
      "  \"RXN__45__12971\"\n",
      "  \"RXN__45__13242\"\n",
      "  \"RXN__45__13261\"\n",
      "  \"RXN__45__10663\"\n",
      "  \"RXN__45__9558\"\n",
      "  \"_4__46__2__46__1__46__58__45__RXN\"\n",
      "  \"RXN__45__9634\"\n",
      "  \"RXN__45__9548\"\n",
      "  \"RXN__45__9555\"\n",
      "  \"RXN__45__12969\"\n",
      "  \"RXN__45__9673\"\n",
      "  \"RXN__45__8346\"\n",
      "  \"RXN__45__11243\"\n",
      "  \"RXN__45__9655\"\n",
      "Completion 3:\n",
      "  \"_4__45__COUMARATE__45____45__COA__45__LIGASE__45__RXN\"\n",
      "  \"RXN__45__13435\"\n",
      "  \"RXN__45__9537\"\n",
      "  \"RXN__45__12361\"\n",
      "  \"RXN__45__12766\"\n",
      "  \"RXN__45__9557\"\n",
      "  \"RXN__45__9520\"\n",
      "  \"RXN__45__13431\"\n",
      "  \"TYROSINE__45__AMINOTRANSFERASE__45__RXN\"\n",
      "  \"GLUTDECARBOX__45__RXN\"\n",
      "  \"RXN__45__12968\"\n",
      "  \"_3__46__1__46__2__46__14__45__RXN\"\n",
      "  \"_1__46__14__46__19__46__2__45__RXN\"\n",
      "  \"HISTIDPHOS__45__RXN\"\n",
      "  \"ADENOSYLHOMOCYSTEINASE__45__RXN\"\n",
      "  \"RXN__45__9550\"\n",
      "  \"RXN__45__10727\"\n",
      "  \"RXN__45__12777\"\n",
      "  \"RXN__45__9549\"\n",
      "  \"_3__45__PHOSPHOGLYCERATE__45__PHOSPHATASE__45__RXN\"\n",
      "  \"RXN__45__8347\"\n",
      "  \"PREPHENATEDEHYDROG__45__RXN\"\n",
      "  \"HISTCYCLOHYD__45__RXN\"\n",
      "  \"RXN__45__7968\"\n",
      "  \"RXN__45__8349\"\n",
      "  \"RXN__45__701\"\n",
      "  \"MANNITOL__45__1__45__PHOSPHATASE__45__RXN\"\n",
      "  \"_4__46__2__46__1__46__61__45__RXN\"\n",
      "  \"_4__46__3__46__1__46__23__45__RXN\"\n",
      "  \"RXN__45__9533\"\n",
      "  \"_4__46__2__46__1__46__59__45__RXN\"\n",
      "  \"RXN__45__12971\"\n",
      "  \"RXN__45__13242\"\n",
      "  \"RXN__45__13261\"\n",
      "  \"RXN__45__10663\"\n",
      "  \"RXN__45__9558\"\n",
      "  \"_4__46__2__46__1__46__58__45__RXN\"\n",
      "  \"RXN__45__9634\"\n",
      "  \"RXN__45__9548\"\n",
      "  \"RXN__45__9555\"\n",
      "  \"RXN__45__12969\"\n",
      "  \"RXN__45__9673\"\n",
      "  \"RXN__45__8346\"\n",
      "  \"RXN__45__11243\"\n",
      "  \"RXN__45__9655\"\n"
     ]
    }
   ],
   "source": [
    "models = query.get_optimal_completions(draftnet, repairnet, seeds, repairable, optimum)\n",
    "for i in range(0,3):\n",
    "   print('Completion '+str(i+1)+':')\n",
    "   utils.print_met(models[i].to_list())\n"
   ]
  },
  {
   "cell_type": "markdown",
   "metadata": {},
   "source": [
    "That's all folks!"
   ]
  }
 ],
 "metadata": {
  "kernelspec": {
   "display_name": "Python 3",
   "language": "python",
   "name": "python3"
  },
  "language_info": {
   "codemirror_mode": {
    "name": "ipython",
    "version": 3
   },
   "file_extension": ".py",
   "mimetype": "text/x-python",
   "name": "python",
   "nbconvert_exporter": "python",
   "pygments_lexer": "ipython3",
   "version": "3.5.1"
  }
 },
 "nbformat": 4,
 "nbformat_minor": 0
}
